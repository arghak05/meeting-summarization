{
 "cells": [
  {
   "cell_type": "code",
   "execution_count": null,
   "id": "c111cb2d",
   "metadata": {},
   "outputs": [],
   "source": []
  },
  {
   "cell_type": "code",
   "execution_count": 1,
   "id": "8c99fc2c",
   "metadata": {},
   "outputs": [
    {
     "ename": "ModuleNotFoundError",
     "evalue": "No module named 'speech_recognition'",
     "output_type": "error",
     "traceback": [
      "\u001b[1;31m---------------------------------------------------------------------------\u001b[0m",
      "\u001b[1;31mModuleNotFoundError\u001b[0m                       Traceback (most recent call last)",
      "\u001b[1;32m~\\AppData\\Local\\Temp/ipykernel_11692/3616649092.py\u001b[0m in \u001b[0;36m<module>\u001b[1;34m\u001b[0m\n\u001b[1;32m----> 1\u001b[1;33m \u001b[1;32mimport\u001b[0m \u001b[0mspeech_recognition\u001b[0m \u001b[1;32mas\u001b[0m \u001b[0msr\u001b[0m\u001b[1;33m\u001b[0m\u001b[1;33m\u001b[0m\u001b[0m\n\u001b[0m\u001b[0;32m      2\u001b[0m \u001b[1;32mfrom\u001b[0m \u001b[0mtkinter\u001b[0m \u001b[1;32mimport\u001b[0m \u001b[0mTk\u001b[0m\u001b[1;33m,\u001b[0m \u001b[0mfiledialog\u001b[0m\u001b[1;33m\u001b[0m\u001b[1;33m\u001b[0m\u001b[0m\n\u001b[0;32m      3\u001b[0m \u001b[1;32mimport\u001b[0m \u001b[0mtime\u001b[0m\u001b[1;33m\u001b[0m\u001b[1;33m\u001b[0m\u001b[0m\n\u001b[0;32m      4\u001b[0m \u001b[1;32mimport\u001b[0m \u001b[0mwave\u001b[0m\u001b[1;33m\u001b[0m\u001b[1;33m\u001b[0m\u001b[0m\n\u001b[0;32m      5\u001b[0m \u001b[1;32mimport\u001b[0m \u001b[0mcontextlib\u001b[0m\u001b[1;33m\u001b[0m\u001b[1;33m\u001b[0m\u001b[0m\n",
      "\u001b[1;31mModuleNotFoundError\u001b[0m: No module named 'speech_recognition'"
     ]
    }
   ],
   "source": [
    "import speech_recognition as sr\n",
    "from tkinter import Tk, filedialog\n",
    "import time\n",
    "import wave\n",
    "import contextlib\n",
    "import eyed3\n",
    "from selenium import webdriver\n",
    "from selenium.webdriver.common.by import By\n",
    "import os\n",
    "from nltk.corpus import stopwords\n",
    "from nltk.cluster.util import cosine_distance\n",
    "import numpy as np\n",
    "import networkx as nx\n",
    "from fpdf import FPDF"
   ]
  },
  {
   "cell_type": "code",
   "execution_count": 2,
   "id": "88da1b20",
   "metadata": {
    "scrolled": true
   },
   "outputs": [
    {
     "name": "stdout",
     "output_type": "stream",
     "text": [
      "Text: but you just have to slightly modified them as per the topic heading getting my point so maybe implementation of the algorithm may be there in the corresponding coating part or something of that sort for P students it's a part of for example implementation sweetest have to modify a little bit as per your format ok so don't please assume that whatever I am teaching right now is 100% same is what to write in the same way I know you have to modify Jassi of format I was basically downloading that format on so so for the teach tutal ok so let us start let me share my screen I hope you will be able to see in my skin then just said it is and this is this university format so kindly don't make any modifications to deserve ok I hope my screen is visible to everyone very first page letter start with the very first page University of Mumbai for you the year would be 2021 2022 is it ok the next the caller's name is going to come is the screen visible is paying me then college Emblem is going to come over here then after that project synopsis report on this type the title your students you have to write your title ok bye and then when you are writing title unnecessary don't make a title 100 don't make it in other way whatever is the phone I mean the aerial 18 you have to abide to the same one ok Sarai the title here by in CAT same as it is don't make any unnecessary change type the names of the group members ok guided by for example here you can write my name please write the spelling correctly is it clear to everyone don't add anything extra this is how you will write my name same as it is so if you all want you can copy this next your roll number is going to come here number 12 if there are four members in the group kindly at one row write the name properly see you on can see it is left justified means when you are writing name you have to left justify this ok is it here if you have any doubt and the you can ping me in between also for you it is 20 semester 7 ok not a c v semester 7 this time so make the changes are necessary changes over time the title next year students your internal guide sign later on we will add and I'll ask the examiner sign also data to be added in the report ok now after this this is the acknowledgement given over your\n"
     ]
    }
   ],
   "source": [
    "r = sr.Recognizer()\n",
    "\n",
    "\n",
    "root = Tk()\n",
    "fname = filedialog.askopenfilename()\n",
    "root.withdraw()\n",
    "\n",
    "with sr.AudioFile(fname) as source:\n",
    "    audio = r.record(source)\n",
    "try:\n",
    "    result = r.recognize_google(audio)\n",
    "    print(\"Text: \" + result)\n",
    "except Exception as e:\n",
    "    print(\"Exception: \" + str(e))"
   ]
  },
  {
   "cell_type": "code",
   "execution_count": 3,
   "id": "5b6aded6",
   "metadata": {},
   "outputs": [],
   "source": [
    "try:\n",
    "    with open(\"converted_audio_to_text.txt\", \"a\") as f:\n",
    "        f.writelines(result)\n",
    "except:\n",
    "    print(\"File not found!\")\n",
    "finally:\n",
    "    f.close()"
   ]
  },
  {
   "cell_type": "code",
   "execution_count": 4,
   "id": "21f135a6",
   "metadata": {},
   "outputs": [
    {
     "name": "stderr",
     "output_type": "stream",
     "text": [
      "C:\\Users\\Ahmed\\AppData\\Local\\Temp/ipykernel_15300/791683316.py:1: DeprecationWarning: executable_path has been deprecated, please pass in a Service object\n",
      "  driver = webdriver.Edge(executable_path='C:/Program Files/Driver_Notes/msedgedriver.exe')\n",
      "C:\\Users\\Ahmed\\AppData\\Local\\Temp/ipykernel_15300/791683316.py:7: DeprecationWarning: find_element_by_* commands are deprecated. Please use find_element() instead\n",
      "  id_box = driver.find_element_by_id('input-text')\n",
      "C:\\Users\\Ahmed\\AppData\\Local\\Temp/ipykernel_15300/791683316.py:10: DeprecationWarning: find_element_by_* commands are deprecated. Please use find_element() instead\n",
      "  login_button = driver.find_element_by_id('punctuate-btn')\n",
      "C:\\Users\\Ahmed\\AppData\\Local\\Temp/ipykernel_15300/791683316.py:15: DeprecationWarning: find_element_by_* commands are deprecated. Please use find_element() instead\n",
      "  op_box = driver.find_element_by_id('output-text')\n"
     ]
    }
   ],
   "source": [
    "driver = webdriver.Edge(executable_path='C:/Program Files/Driver_Notes/msedgedriver.exe')\n",
    "\n",
    "driver.get('http://bark.phon.ioc.ee/punctuator')\n",
    "with open('D:/Mini project/MeetSummarization/converted_audio_to_text.txt', 'r') as f1:\n",
    "    cp = f1.read()\n",
    "\n",
    "id_box = driver.find_element_by_id('input-text')\n",
    "id_box.send_keys(cp)\n",
    "    \n",
    "login_button = driver.find_element_by_id('punctuate-btn')\n",
    "login_button.click()\n",
    "\n",
    "time.sleep(10)\n",
    "\n",
    "op_box = driver.find_element_by_id('output-text')\n",
    "op_box1 = op_box.get_attribute('innerHTML')\n",
    "\n",
    "driver.quit()\n",
    "try:\n",
    "    with open(\"punctuated_audio_to_text.txt\", \"a\") as f2:\n",
    "        f2.write(op_box1)\n",
    "except:\n",
    "    print(\"File not found!\")\n",
    "finally:\n",
    "    f2.close()"
   ]
  },
  {
   "cell_type": "code",
   "execution_count": 5,
   "id": "256d5a42",
   "metadata": {},
   "outputs": [
    {
     "name": "stdout",
     "output_type": "stream",
     "text": [
      "punctuated_audio_to_text.txt\n"
     ]
    }
   ],
   "source": [
    "file_name = os.listdir(\"D:/Mini project/MeetSummarization\")[3]\n",
    "print(file_name)"
   ]
  },
  {
   "cell_type": "code",
   "execution_count": 6,
   "id": "825f8dda",
   "metadata": {},
   "outputs": [],
   "source": [
    "def read_article(file_name):\n",
    "    file = open(file_name, \"r\")\n",
    "    filedata = file.readlines()\n",
    "    article = filedata[0].split(\". \")\n",
    "    sentences = []\n",
    "\n",
    "    for sentence in article:\n",
    "        #print(sentence)\n",
    "        sentences.append(sentence.replace(\"[^a-zA-Z]\", \" \").split(\" \"))\n",
    "    sentences.pop() \n",
    "    \n",
    "    return sentences"
   ]
  },
  {
   "cell_type": "code",
   "execution_count": 7,
   "id": "25d8beea",
   "metadata": {},
   "outputs": [],
   "source": [
    "def sentence_similarity(sent1, sent2, stopwords=None):\n",
    "    if stopwords is None:\n",
    "        stopwords = []\n",
    " \n",
    "    sent1 = [w.lower() for w in sent1]\n",
    "    sent2 = [w.lower() for w in sent2]\n",
    " \n",
    "    all_words = list(set(sent1 + sent2))\n",
    " \n",
    "    vector1 = [0] * len(all_words)\n",
    "    vector2 = [0] * len(all_words)\n",
    " \n",
    "    # build the vector for the first sentence\n",
    "    for w in sent1:\n",
    "        if w in stopwords:\n",
    "            continue\n",
    "        vector1[all_words.index(w)] += 1\n",
    " \n",
    "    # build the vector for the second sentence\n",
    "    for w in sent2:\n",
    "        if w in stopwords:\n",
    "            continue\n",
    "        vector2[all_words.index(w)] += 1\n",
    " \n",
    "    return 1 - cosine_distance(vector1, vector2)\n",
    " \n"
   ]
  },
  {
   "cell_type": "code",
   "execution_count": 8,
   "id": "b42a4708",
   "metadata": {},
   "outputs": [],
   "source": [
    "def build_similarity_matrix(sentences, stop_words):\n",
    "    # Create an empty similarity matrix\n",
    "    similarity_matrix = np.zeros((len(sentences), len(sentences)))\n",
    " \n",
    "    for idx1 in range(len(sentences)):\n",
    "        for idx2 in range(len(sentences)):\n",
    "            if idx1 == idx2: #ignore if both are same sentences\n",
    "                continue \n",
    "            similarity_matrix[idx1][idx2] = sentence_similarity(sentences[idx1], sentences[idx2], stop_words)\n",
    "\n",
    "    return similarity_matrix"
   ]
  },
  {
   "cell_type": "code",
   "execution_count": 9,
   "id": "53d69d0b",
   "metadata": {},
   "outputs": [],
   "source": [
    "def generate_summary(file_name, top_n=5):\n",
    "    stop_words = stopwords.words('english')\n",
    "    summarize_text = []\n",
    "\n",
    "    # Step 1 - Read text anc split it\n",
    "    sentences =  read_article(file_name)\n",
    "\n",
    "    # Step 2 - Generate Similary Martix across sentences\n",
    "    sentence_similarity_martix = build_similarity_matrix(sentences, stop_words)\n",
    "\n",
    "    # Step 3 - Rank sentences in similarity martix\n",
    "    sentence_similarity_graph = nx.from_numpy_array(sentence_similarity_martix)\n",
    "    scores = nx.pagerank(sentence_similarity_graph)\n",
    "\n",
    "    # Step 4 - Sort the rank and pick top sentences\n",
    "    ranked_sentence = sorted(((scores[i],s) for i,s in enumerate(sentences)), reverse=True)    \n",
    "    #print(\"Indexes of top ranked_sentence order are \", ranked_sentence)    \n",
    "\n",
    "    for i in range(top_n):\n",
    "        summarize_text.append(\" \".join(ranked_sentence[i][1]))\n",
    "\n",
    "    # Step 5 - Offcourse, output the summarize texr\n",
    "    \n",
    "    print(\"Summarize Text: \\n\", \". \".join(summarize_text))\n",
    "    \n",
    "    summ = \"Summarize Text: \\n\", \". \".join(summarize_text)\n",
    "    \n",
    "    #start_time=time.time()\n",
    "    \n",
    "    start_time = \"0.00 seconds\"\n",
    "    start_time_file = \"\\n \\n Start_time: \" + start_time\n",
    "    print(\"\\n Start_time: \", start_time)\n",
    "    with contextlib.closing(wave.open(fname,'r')) as f:\n",
    "        frames = f.getnframes()\n",
    "        rate = f.getframerate()\n",
    "        total_time= round(frames / float(rate),2)\n",
    "        total_time_file = \"\\n Total_time: \"+str(total_time)+\" seconds\"\n",
    "        print(total_time_file)\n",
    "        \n",
    "    try:\n",
    "        with open(\"summary.txt\", \"a\") as f3:\n",
    "            f3.writelines(summ)\n",
    "            f3.writelines(start_time_file)\n",
    "            f3.writelines(total_time_file)\n",
    "    except:\n",
    "        print(\"File not found!\")\n",
    "    finally:\n",
    "        f3.close()\n",
    "    "
   ]
  },
  {
   "cell_type": "code",
   "execution_count": 11,
   "id": "e0224c6f",
   "metadata": {},
   "outputs": [
    {
     "name": "stdout",
     "output_type": "stream",
     "text": [
      "Summarize Text: \n",
      " If there are four members in the group, kindly at one row write the name properly see you on can see, it is left. Then, after that project synopsis report on this type, the title, your students, you have to write your title, ok, bye and then, when you are, writing title unnecessary, don't make a title 100, don't make it in other way\n",
      "\n",
      " Start_time:  0.00 seconds\n",
      "\n",
      " Total_time: 170.6 seconds\n"
     ]
    }
   ],
   "source": [
    "generate_summary( \"punctuated_audio_to_text.txt\", 2)"
   ]
  },
  {
   "cell_type": "code",
   "execution_count": 12,
   "id": "54fdac31",
   "metadata": {},
   "outputs": [
    {
     "data": {
      "text/plain": [
       "''"
      ]
     },
     "execution_count": 12,
     "metadata": {},
     "output_type": "execute_result"
    }
   ],
   "source": [
    "pdf = FPDF()\n",
    "pdf.add_page()\n",
    "pdf.set_font(\"Arial\", size = 11)\n",
    "\n",
    "f4 = open(\"summary.txt\", \"r\")\n",
    "\n",
    "for x in f4:\n",
    "    pdf.multi_cell(180, 10, txt = x, align = 'L')\n",
    "pdf.output(\"meeting_summary.pdf\")\n"
   ]
  },
  {
   "cell_type": "code",
   "execution_count": null,
   "id": "33ac7f1c",
   "metadata": {},
   "outputs": [],
   "source": []
  },
  {
   "cell_type": "code",
   "execution_count": null,
   "id": "259ee31d",
   "metadata": {},
   "outputs": [],
   "source": []
  }
 ],
 "metadata": {
  "kernelspec": {
   "display_name": "Python 3 (ipykernel)",
   "language": "python",
   "name": "python3"
  },
  "language_info": {
   "codemirror_mode": {
    "name": "ipython",
    "version": 3
   },
   "file_extension": ".py",
   "mimetype": "text/x-python",
   "name": "python",
   "nbconvert_exporter": "python",
   "pygments_lexer": "ipython3",
   "version": "3.9.7"
  }
 },
 "nbformat": 4,
 "nbformat_minor": 5
}
