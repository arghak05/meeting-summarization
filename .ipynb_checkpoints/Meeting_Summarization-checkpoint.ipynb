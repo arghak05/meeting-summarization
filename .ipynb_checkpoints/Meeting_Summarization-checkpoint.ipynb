{
 "cells": [
  {
   "cell_type": "code",
   "execution_count": 4,
   "id": "8c99fc2c",
   "metadata": {},
   "outputs": [],
   "source": [
    "import speech_recognition as sr\n",
    "from tkinter import Tk, filedialog\n",
    "import time\n",
    "import wave\n",
    "import contextlib\n",
    "import eyed3\n",
    "from selenium import webdriver\n",
    "from selenium.webdriver.common.by import By\n",
    "import os\n",
    "from nltk.corpus import stopwords\n",
    "from nltk.cluster.util import cosine_distance\n",
    "import numpy as np\n",
    "import networkx as nx\n",
    "from fpdf import FPDF"
   ]
  },
  {
   "cell_type": "code",
   "execution_count": 5,
   "id": "88da1b20",
   "metadata": {
    "scrolled": true
   },
   "outputs": [
    {
     "name": "stdout",
     "output_type": "stream",
     "text": [
      "Text: hi Sheela hello how are you I am fine what to do I am fine thank you but it is breathing problem of men but you have to hear that you will be habit cheated if you hear it you should practice is it mandatory that colonize a dangerous Disease Control by wearing mask by watching our hands properly if you follow these rules we can we do search chances of being infected or spreading and I can protect myself and the people around exactly thank you so much for your great information you are most welcome ok today I have to go will meet you tomorrow and I if you like this video like subscribe and press the bell icon thanks for watching\n"
     ]
    }
   ],
   "source": [
    "r = sr.Recognizer()\n",
    "\n",
    "\n",
    "root = Tk()\n",
    "fname = filedialog.askopenfilename()\n",
    "root.withdraw()\n",
    "\n",
    "with sr.AudioFile(fname) as source:\n",
    "    audio = r.record(source)\n",
    "try:\n",
    "    result = r.recognize_google(audio)\n",
    "    print(\"Text: \" + result)\n",
    "except Exception as e:\n",
    "    print(\"Exception: \" + str(e))"
   ]
  },
  {
   "cell_type": "code",
   "execution_count": 6,
   "id": "5b6aded6",
   "metadata": {},
   "outputs": [],
   "source": [
    "try:\n",
    "    with open(\"converted_audio_to_text.txt\", \"a\") as f:\n",
    "        f.writelines(result)\n",
    "except:\n",
    "    print(\"File not found!\")\n",
    "finally:\n",
    "    f.close()"
   ]
  },
  {
   "cell_type": "code",
   "execution_count": 7,
   "id": "21f135a6",
   "metadata": {},
   "outputs": [
    {
     "name": "stderr",
     "output_type": "stream",
     "text": [
      "C:\\Users\\Ahmed\\AppData\\Local\\Temp/ipykernel_9988/791683316.py:1: DeprecationWarning: executable_path has been deprecated, please pass in a Service object\n",
      "  driver = webdriver.Edge(executable_path='C:/Program Files/Driver_Notes/msedgedriver.exe')\n",
      "C:\\Users\\Ahmed\\AppData\\Local\\Temp/ipykernel_9988/791683316.py:7: DeprecationWarning: find_element_by_* commands are deprecated. Please use find_element() instead\n",
      "  id_box = driver.find_element_by_id('input-text')\n",
      "C:\\Users\\Ahmed\\AppData\\Local\\Temp/ipykernel_9988/791683316.py:10: DeprecationWarning: find_element_by_* commands are deprecated. Please use find_element() instead\n",
      "  login_button = driver.find_element_by_id('punctuate-btn')\n",
      "C:\\Users\\Ahmed\\AppData\\Local\\Temp/ipykernel_9988/791683316.py:15: DeprecationWarning: find_element_by_* commands are deprecated. Please use find_element() instead\n",
      "  op_box = driver.find_element_by_id('output-text')\n"
     ]
    }
   ],
   "source": [
    "driver = webdriver.Edge(executable_path='C:/Program Files/Driver_Notes/msedgedriver.exe')\n",
    "\n",
    "driver.get('http://bark.phon.ioc.ee/punctuator')\n",
    "with open('D:/Mini project/MeetSummarization/converted_audio_to_text.txt', 'r') as f1:\n",
    "    cp = f1.read()\n",
    "\n",
    "id_box = driver.find_element_by_id('input-text')\n",
    "id_box.send_keys(cp)\n",
    "    \n",
    "login_button = driver.find_element_by_id('punctuate-btn')\n",
    "login_button.click()\n",
    "\n",
    "time.sleep(10)\n",
    "\n",
    "op_box = driver.find_element_by_id('output-text')\n",
    "op_box1 = op_box.get_attribute('innerHTML')\n",
    "\n",
    "driver.quit()\n",
    "try:\n",
    "    with open(\"punctuated_audio_to_text.txt\", \"a\") as f2:\n",
    "        f2.write(op_box1)\n",
    "except:\n",
    "    print(\"File not found!\")\n",
    "finally:\n",
    "    f2.close()"
   ]
  },
  {
   "cell_type": "code",
   "execution_count": 8,
   "id": "256d5a42",
   "metadata": {},
   "outputs": [
    {
     "name": "stdout",
     "output_type": "stream",
     "text": [
      "punctuated_audio_to_text.txt\n"
     ]
    }
   ],
   "source": [
    "file_name = os.listdir(\"D:/Mini project/MeetSummarization\")[3]\n",
    "print(file_name)"
   ]
  },
  {
   "cell_type": "code",
   "execution_count": 9,
   "id": "825f8dda",
   "metadata": {},
   "outputs": [],
   "source": [
    "def read_article(file_name):\n",
    "    file = open(file_name, \"r\")\n",
    "    filedata = file.readlines()\n",
    "    article = filedata[0].split(\". \")\n",
    "    sentences = []\n",
    "\n",
    "    for sentence in article:\n",
    "        #print(sentence)\n",
    "        sentences.append(sentence.replace(\"[^a-zA-Z]\", \" \").split(\" \"))\n",
    "    sentences.pop() \n",
    "    \n",
    "    return sentences"
   ]
  },
  {
   "cell_type": "code",
   "execution_count": 10,
   "id": "25d8beea",
   "metadata": {},
   "outputs": [],
   "source": [
    "def sentence_similarity(sent1, sent2, stopwords=None):\n",
    "    if stopwords is None:\n",
    "        stopwords = []\n",
    " \n",
    "    sent1 = [w.lower() for w in sent1]\n",
    "    sent2 = [w.lower() for w in sent2]\n",
    " \n",
    "    all_words = list(set(sent1 + sent2))\n",
    " \n",
    "    vector1 = [0] * len(all_words)\n",
    "    vector2 = [0] * len(all_words)\n",
    " \n",
    "    # build the vector for the first sentence\n",
    "    for w in sent1:\n",
    "        if w in stopwords:\n",
    "            continue\n",
    "        vector1[all_words.index(w)] += 1\n",
    " \n",
    "    # build the vector for the second sentence\n",
    "    for w in sent2:\n",
    "        if w in stopwords:\n",
    "            continue\n",
    "        vector2[all_words.index(w)] += 1\n",
    " \n",
    "    return 1 - cosine_distance(vector1, vector2)\n",
    " \n"
   ]
  },
  {
   "cell_type": "code",
   "execution_count": 11,
   "id": "b42a4708",
   "metadata": {},
   "outputs": [],
   "source": [
    "def build_similarity_matrix(sentences, stop_words):\n",
    "    # Create an empty similarity matrix\n",
    "    similarity_matrix = np.zeros((len(sentences), len(sentences)))\n",
    " \n",
    "    for idx1 in range(len(sentences)):\n",
    "        for idx2 in range(len(sentences)):\n",
    "            if idx1 == idx2: #ignore if both are same sentences\n",
    "                continue \n",
    "            similarity_matrix[idx1][idx2] = sentence_similarity(sentences[idx1], sentences[idx2], stop_words)\n",
    "\n",
    "    return similarity_matrix"
   ]
  },
  {
   "cell_type": "code",
   "execution_count": 12,
   "id": "53d69d0b",
   "metadata": {},
   "outputs": [],
   "source": [
    "def generate_summary(file_name, top_n=5):\n",
    "    stop_words = stopwords.words('english')\n",
    "    summarize_text = []\n",
    "\n",
    "    # Step 1 - Read text anc split it\n",
    "    sentences =  read_article(file_name)\n",
    "\n",
    "    # Step 2 - Generate Similary Martix across sentences\n",
    "    sentence_similarity_martix = build_similarity_matrix(sentences, stop_words)\n",
    "\n",
    "    # Step 3 - Rank sentences in similarity martix\n",
    "    sentence_similarity_graph = nx.from_numpy_array(sentence_similarity_martix)\n",
    "    scores = nx.pagerank(sentence_similarity_graph)\n",
    "\n",
    "    # Step 4 - Sort the rank and pick top sentences\n",
    "    ranked_sentence = sorted(((scores[i],s) for i,s in enumerate(sentences)), reverse=True)    \n",
    "    #print(\"Indexes of top ranked_sentence order are \", ranked_sentence)    \n",
    "\n",
    "    for i in range(top_n):\n",
    "        summarize_text.append(\" \".join(ranked_sentence[i][1]))\n",
    "\n",
    "    # Step 5 - Offcourse, output the summarize texr\n",
    "    \n",
    "    print(\"Summarize Text: \\n\", \". \".join(summarize_text))\n",
    "    \n",
    "    summ = \"Summarize Text: \\n\", \". \".join(summarize_text)\n",
    "    \n",
    "    #start_time=time.time()\n",
    "    \n",
    "    start_time = \"0.00 seconds\"\n",
    "    start_time_file = \"\\n \\n Start_time: \" + start_time\n",
    "    print(\"\\n Start_time: \", start_time)\n",
    "    with contextlib.closing(wave.open(fname,'r')) as f:\n",
    "        frames = f.getnframes()\n",
    "        rate = f.getframerate()\n",
    "        total_time= round(frames / float(rate),2)\n",
    "        total_time_file = \"\\n Total_time: \"+str(total_time)+\" seconds\"\n",
    "        print(total_time_file)\n",
    "        \n",
    "    try:\n",
    "        with open(\"summary.txt\", \"a\") as f3:\n",
    "            f3.writelines(summ)\n",
    "            f3.writelines(start_time_file)\n",
    "            f3.writelines(total_time_file)\n",
    "    except:\n",
    "        print(\"File not found!\")\n",
    "    finally:\n",
    "        f3.close()\n",
    "    "
   ]
  },
  {
   "cell_type": "code",
   "execution_count": 13,
   "id": "e0224c6f",
   "metadata": {},
   "outputs": [
    {
     "name": "stdout",
     "output_type": "stream",
     "text": [
      "Summarize Text: \n",
      " Hi Sheela, hello, how are you I am fine what to do? I am fine, thank you, but it is breathing problem of men, but you have to hear that you will be habit cheated. If you hear it, you should practice\n",
      "\n",
      " Start_time:  0.00 seconds\n",
      "\n",
      " Total_time: 147.48 seconds\n"
     ]
    }
   ],
   "source": [
    "generate_summary( \"punctuated_audio_to_text.txt\", 2)"
   ]
  },
  {
   "cell_type": "code",
   "execution_count": 14,
   "id": "54fdac31",
   "metadata": {},
   "outputs": [
    {
     "data": {
      "text/plain": [
       "''"
      ]
     },
     "execution_count": 14,
     "metadata": {},
     "output_type": "execute_result"
    }
   ],
   "source": [
    "pdf = FPDF()\n",
    "pdf.add_page()\n",
    "pdf.set_font(\"Arial\", size = 11)\n",
    "\n",
    "f4 = open(\"summary.txt\", \"r\")\n",
    "\n",
    "for x in f4:\n",
    "    pdf.multi_cell(180, 10, txt = x, align = 'L')\n",
    "pdf.output(\"meeting_summary.pdf\")\n"
   ]
  },
  {
   "cell_type": "code",
   "execution_count": null,
   "id": "33ac7f1c",
   "metadata": {},
   "outputs": [],
   "source": []
  },
  {
   "cell_type": "code",
   "execution_count": null,
   "id": "259ee31d",
   "metadata": {},
   "outputs": [],
   "source": []
  }
 ],
 "metadata": {
  "kernelspec": {
   "display_name": "Python 3 (ipykernel)",
   "language": "python",
   "name": "python3"
  },
  "language_info": {
   "codemirror_mode": {
    "name": "ipython",
    "version": 3
   },
   "file_extension": ".py",
   "mimetype": "text/x-python",
   "name": "python",
   "nbconvert_exporter": "python",
   "pygments_lexer": "ipython3",
   "version": "3.9.7"
  }
 },
 "nbformat": 4,
 "nbformat_minor": 5
}
